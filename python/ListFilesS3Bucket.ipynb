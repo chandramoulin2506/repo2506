{
 "cells": [
  {
   "cell_type": "code",
   "execution_count": 6,
   "metadata": {},
   "outputs": [],
   "source": [
    "import boto3\n",
    "from boto3 import client\n",
    "from boto3.session import Session"
   ]
  },
  {
   "cell_type": "code",
   "execution_count": 3,
   "metadata": {},
   "outputs": [],
   "source": [
    "bucketDirectory=\"awsbucket25\"\n",
    "buketName=\"awsbucket25/employee.json\""
   ]
  },
  {
   "cell_type": "code",
   "execution_count": 4,
   "metadata": {},
   "outputs": [],
   "source": [
    "AWS_ACCESS_KEY_ID='AWS_ACCESS_KEY_ID'\n",
    "AWS_SECRET_ACCESS_KEY='AWS_SECRET_ACCESS_KEY'"
   ]
  },
  {
   "cell_type": "code",
   "execution_count": 7,
   "metadata": {},
   "outputs": [],
   "source": [
    "session = Session(aws_access_key_id=AWS_ACCESS_KEY_ID,\n",
    "                  aws_secret_access_key=AWS_SECRET_ACCESS_KEY)\n",
    "s3 = session.resource('s3')"
   ]
  },
  {
   "cell_type": "code",
   "execution_count": 8,
   "metadata": {},
   "outputs": [
    {
     "name": "stdout",
     "output_type": "stream",
     "text": [
      "Analytics/\n",
      "Analytics/Kinesis Code.txt\n",
      "Analytics/Readme.txt\n",
      "Analytics/Reqs.csv\n",
      "Analytics/Webdata_generator_retailer.py\n",
      "Analytics/data_generator_retailer.py\n",
      "Analytics/requirements.txt\n",
      "credentials/\n",
      "doc/\n",
      "employee.csv\n",
      "employee.json\n",
      "home/\n",
      "home/aws/\n",
      "home/data/\n",
      "home/test-user/\n",
      "home/test-user/user.txt\n",
      "index.html\n",
      "pharmacy-medication.json\n",
      "policy.txt\n",
      "test.txt\n",
      "user.txt\n"
     ]
    }
   ],
   "source": [
    "bucketInfo = s3.Bucket(bucketDirectory)\n",
    "for s3_file in bucketInfo.objects.all():\n",
    "    print(s3_file.key)\n"
   ]
  }
 ],
 "metadata": {
  "kernelspec": {
   "display_name": "Python 3",
   "language": "python",
   "name": "python3"
  },
  "language_info": {
   "codemirror_mode": {
    "name": "ipython",
    "version": 3
   },
   "file_extension": ".py",
   "mimetype": "text/x-python",
   "name": "python",
   "nbconvert_exporter": "python",
   "pygments_lexer": "ipython3",
   "version": "3.7.4"
  }
 },
 "nbformat": 4,
 "nbformat_minor": 2
}
