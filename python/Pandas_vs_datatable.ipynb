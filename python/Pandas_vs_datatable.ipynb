{
 "cells": [
  {
   "cell_type": "code",
   "execution_count": 1,
   "metadata": {},
   "outputs": [
    {
     "data": {
      "text/html": [
       "<style type='text/css'>\n",
       ".datatable table.frame { margin-bottom: 0; }\n",
       ".datatable table.frame thead { border-bottom: none; }\n",
       ".datatable table.frame tr.coltypes td {  color: #FFFFFF;  line-height: 6px;  padding: 0 0.5em;}\n",
       ".datatable .boolean { background: #DDDD99; }\n",
       ".datatable .object  { background: #565656; }\n",
       ".datatable .integer { background: #5D9E5D; }\n",
       ".datatable .float   { background: #4040CC; }\n",
       ".datatable .string  { background: #CC4040; }\n",
       ".datatable .row_index {  background: var(--jp-border-color3);  border-right: 1px solid var(--jp-border-color0);  color: var(--jp-ui-font-color3);  font-size: 9px;}\n",
       ".datatable .frame tr.coltypes .row_index {  background: var(--jp-border-color0);}\n",
       ".datatable th:nth-child(2) { padding-left: 12px; }\n",
       ".datatable .hellipsis {  color: var(--jp-cell-editor-border-color);}\n",
       ".datatable .vellipsis {  background: var(--jp-layout-color0);  color: var(--jp-cell-editor-border-color);}\n",
       ".datatable .na {  color: var(--jp-cell-editor-border-color);  font-size: 80%;}\n",
       ".datatable .footer { font-size: 9px; }\n",
       ".datatable .frame_dimensions {  background: var(--jp-border-color3);  border-top: 1px solid var(--jp-border-color0);  color: var(--jp-ui-font-color3);  display: inline-block;  opacity: 0.6;  padding: 1px 10px 1px 5px;}\n",
       "</style>\n"
      ],
      "text/plain": [
       "<IPython.core.display.HTML object>"
      ]
     },
     "metadata": {},
     "output_type": "display_data"
    }
   ],
   "source": [
    "import time\n",
    "import datatable as dt\n",
    "import os"
   ]
  },
  {
   "cell_type": "code",
   "execution_count": 2,
   "metadata": {},
   "outputs": [],
   "source": [
    "import numpy as np\n",
    "import pandas as pd"
   ]
  },
  {
   "cell_type": "code",
   "execution_count": 4,
   "metadata": {},
   "outputs": [
    {
     "name": "stdout",
     "output_type": "stream",
     "text": [
      "Size of the input file is 218 MB\n"
     ]
    }
   ],
   "source": [
    "file_name='/home/cm2506/Documents/data/atuswgts.csv'\n",
    "print(\"Size of the input file is {} MB\".format(os.path.getsize(file_name) >> 20))"
   ]
  },
  {
   "cell_type": "markdown",
   "metadata": {},
   "source": [
    "#### Read Time Comparison"
   ]
  },
  {
   "cell_type": "code",
   "execution_count": 8,
   "metadata": {},
   "outputs": [
    {
     "name": "stdout",
     "output_type": "stream",
     "text": [
      "Pandas start_time = 1583687604.9386885\n",
      "Pandas end_time = 1583687611.7469738\n",
      "Pandas loading time = 6.808285236358643\n"
     ]
    }
   ],
   "source": [
    "#Using Pandas\n",
    "start_time = time.time()\n",
    "print (\"Pandas start_time = {}\".format(start_time))\n",
    "pandas_df=pd.read_csv(file_name)\n",
    "end_time = time.time()\n",
    "print (\"Pandas end_time = {}\".format(end_time))\n",
    "pandas_time_diff=end_time - start_time\n",
    "print(\"Pandas loading time = {}\".format(pandas_time_diff))"
   ]
  },
  {
   "cell_type": "code",
   "execution_count": 9,
   "metadata": {},
   "outputs": [
    {
     "name": "stdout",
     "output_type": "stream",
     "text": [
      "Datatable start_time = 1583687613.7996202\n",
      "Datatable end_time = 1583687614.6740627\n",
      "Datatable loading time = 0.8744425773620605\n"
     ]
    }
   ],
   "source": [
    "#Using data table\n",
    "start_time = time.time()\n",
    "print (\"Datatable start_time = {}\".format(start_time))\n",
    "datatable_df=dt.fread(file_name)\n",
    "end_time = time.time()\n",
    "print (\"Datatable end_time = {}\".format(end_time))\n",
    "datatable_time_diff=end_time - start_time\n",
    "print(\"Datatable loading time = {}\".format(datatable_time_diff))"
   ]
  },
  {
   "cell_type": "markdown",
   "metadata": {},
   "source": [
    "#### Read and Convert to Pandas"
   ]
  },
  {
   "cell_type": "code",
   "execution_count": 12,
   "metadata": {},
   "outputs": [
    {
     "name": "stdout",
     "output_type": "stream",
     "text": [
      "Datatable loading time = 2.649271249771118\n"
     ]
    }
   ],
   "source": [
    "start_time = time.time()\n",
    "datatable_df=dt.fread(file_name)\n",
    "datatable_to_pandas=datatable_df.to_pandas()\n",
    "end_time = time.time()\n",
    "datatable_time_diff=end_time - start_time\n",
    "print(\"Datatable loading time = {}\".format(datatable_time_diff))"
   ]
  },
  {
   "cell_type": "code",
   "execution_count": 13,
   "metadata": {},
   "outputs": [
    {
     "data": {
      "text/plain": [
       "pandas.core.frame.DataFrame"
      ]
     },
     "execution_count": 13,
     "metadata": {},
     "output_type": "execute_result"
    }
   ],
   "source": [
    "type(datatable_to_pandas)"
   ]
  },
  {
   "cell_type": "code",
   "execution_count": 14,
   "metadata": {},
   "outputs": [
    {
     "data": {
      "text/html": [
       "<div class='datatable'>\n",
       "  <table class='frame'>\n",
       "  <thead>\n",
       "    <tr class='colnames'><td class='row_index'></td><th>tucaseid</th><th>tufnwgtp001</th><th>tufnwgtp002</th><th>tufnwgtp003</th><th>tufnwgtp004</th><th>tufnwgtp005</th><th>tufnwgtp006</th><th>tufnwgtp007</th><th>tufnwgtp008</th><th>tufnwgtp009</th><th class='vellipsis'>&hellip;</th><th>tufnwgtp156</th><th>tufnwgtp157</th><th>tufnwgtp158</th><th>tufnwgtp159</th><th>tufnwgtp160</th></tr>\n",
       "    <tr class='coltypes'><td class='row_index'></td><td class='integer' title='int64'>&#x25AA;&#x25AA;&#x25AA;&#x25AA;&#x25AA;&#x25AA;&#x25AA;&#x25AA;</td><td class='float' title='float64'>&#x25AA;&#x25AA;&#x25AA;&#x25AA;&#x25AA;&#x25AA;&#x25AA;&#x25AA;</td><td class='float' title='float64'>&#x25AA;&#x25AA;&#x25AA;&#x25AA;&#x25AA;&#x25AA;&#x25AA;&#x25AA;</td><td class='float' title='float64'>&#x25AA;&#x25AA;&#x25AA;&#x25AA;&#x25AA;&#x25AA;&#x25AA;&#x25AA;</td><td class='float' title='float64'>&#x25AA;&#x25AA;&#x25AA;&#x25AA;&#x25AA;&#x25AA;&#x25AA;&#x25AA;</td><td class='float' title='float64'>&#x25AA;&#x25AA;&#x25AA;&#x25AA;&#x25AA;&#x25AA;&#x25AA;&#x25AA;</td><td class='float' title='float64'>&#x25AA;&#x25AA;&#x25AA;&#x25AA;&#x25AA;&#x25AA;&#x25AA;&#x25AA;</td><td class='float' title='float64'>&#x25AA;&#x25AA;&#x25AA;&#x25AA;&#x25AA;&#x25AA;&#x25AA;&#x25AA;</td><td class='float' title='float64'>&#x25AA;&#x25AA;&#x25AA;&#x25AA;&#x25AA;&#x25AA;&#x25AA;&#x25AA;</td><td class='float' title='float64'>&#x25AA;&#x25AA;&#x25AA;&#x25AA;&#x25AA;&#x25AA;&#x25AA;&#x25AA;</td><td></td><td class='float' title='float64'>&#x25AA;&#x25AA;&#x25AA;&#x25AA;&#x25AA;&#x25AA;&#x25AA;&#x25AA;</td><td class='float' title='float64'>&#x25AA;&#x25AA;&#x25AA;&#x25AA;&#x25AA;&#x25AA;&#x25AA;&#x25AA;</td><td class='float' title='float64'>&#x25AA;&#x25AA;&#x25AA;&#x25AA;&#x25AA;&#x25AA;&#x25AA;&#x25AA;</td><td class='float' title='float64'>&#x25AA;&#x25AA;&#x25AA;&#x25AA;&#x25AA;&#x25AA;&#x25AA;&#x25AA;</td><td class='float' title='float64'>&#x25AA;&#x25AA;&#x25AA;&#x25AA;&#x25AA;&#x25AA;&#x25AA;&#x25AA;</td></tr>\n",
       "  </thead>\n",
       "  <tbody>\n",
       "    <tr><td class='row_index'>0</td><td>20030100013280</td><td>7.32343e+06</td><td>1.22e+07</td><td>8.88601e+06</td><td>9.01123e+06</td><td>7.60598e+06</td><td>6.80462e+06</td><td>1.37e+07</td><td>7.41393e+06</td><td>9.35468e+06</td><td class=vellipsis>&hellip;</td><td>1.35e+07</td><td>2.73467e+06</td><td>2.51286e+06</td><td>6.80225e+06</td><td>8.12995e+06</td></tr>\n",
       "    <tr><td class='row_index'>1</td><td>20030100013344</td><td>1.70609e+06</td><td>1.57554e+06</td><td>523672</td><td>1.8564e+06</td><td>1.61189e+06</td><td>1.79468e+06</td><td>468671</td><td>3.02738e+06</td><td>1.77484e+06</td><td class=vellipsis>&hellip;</td><td>525904</td><td>1.58616e+06</td><td>1.80455e+06</td><td>512254</td><td>1.81992e+06</td></tr>\n",
       "    <tr><td class='row_index'>2</td><td>20030100013352</td><td>3.89256e+06</td><td>6.52829e+06</td><td>3.34511e+06</td><td>6.60596e+06</td><td>3.65019e+06</td><td>3.77664e+06</td><td>1.17675e+06</td><td>4.12164e+06</td><td>1.3093e+06</td><td class=vellipsis>&hellip;</td><td>6.73163e+06</td><td>3.57887e+06</td><td>4.03487e+06</td><td>1.08161e+06</td><td>3.68312e+06</td></tr>\n",
       "    <tr><td class='row_index'>3</td><td>20030100013848</td><td>3.21926e+06</td><td>3.12201e+06</td><td>9.1299e+06</td><td>3.20152e+06</td><td>3.63012e+06</td><td>3.39809e+06</td><td>3.15618e+06</td><td>1.13e+07</td><td>8.87672e+06</td><td class=vellipsis>&hellip;</td><td>3.01282e+06</td><td>3.32384e+06</td><td>3.65837e+06</td><td>8.72612e+06</td><td>3.2392e+06</td></tr>\n",
       "    <tr><td class='row_index'>4</td><td>20030100014165</td><td>4.51995e+06</td><td>5.17918e+06</td><td>4.12957e+06</td><td>4.12432e+06</td><td>4.10125e+06</td><td>5.00283e+06</td><td>5.68551e+06</td><td>4.83517e+06</td><td>4.13746e+06</td><td class=vellipsis>&hellip;</td><td>4.428e+06</td><td>5.04788e+06</td><td>4.82298e+06</td><td>4.98684e+06</td><td>5.31406e+06</td></tr>\n",
       "    <tr><td class='row_index'>5</td><td>20030100014169</td><td>4.68213e+06</td><td>5.54459e+06</td><td>5.64116e+06</td><td>4.85494e+06</td><td>4.97403e+06</td><td>5.04174e+06</td><td>6.10914e+06</td><td>5.42792e+06</td><td>5.68268e+06</td><td class=vellipsis>&hellip;</td><td>4.58169e+06</td><td>5.46277e+06</td><td>5.65248e+06</td><td>5.00736e+06</td><td>5.71712e+06</td></tr>\n",
       "    <tr><td class='row_index'>6</td><td>20030100014209</td><td>1.71432e+06</td><td>1.77058e+06</td><td>2.5977e+06</td><td>1.79126e+06</td><td>506434</td><td>1.63347e+06</td><td>1.70546e+06</td><td>1.78156e+06</td><td>2.82102e+06</td><td class=vellipsis>&hellip;</td><td>2.5968e+06</td><td>1.62395e+06</td><td>490058</td><td>1.94282e+06</td><td>1.7205e+06</td></tr>\n",
       "    <tr><td class='row_index'>7</td><td>20030100014427</td><td>6.82031e+06</td><td>1.17e+07</td><td>6.28724e+06</td><td>7.23691e+06</td><td>9.64731e+06</td><td>6.21568e+06</td><td>1.07e+07</td><td>1.92017e+06</td><td>2.30584e+06</td><td class=vellipsis>&hellip;</td><td>7.7229e+06</td><td>1.07e+07</td><td>1.14e+07</td><td>1.98171e+06</td><td>6.44918e+06</td></tr>\n",
       "    <tr><td class='row_index'>8</td><td>20030100014550</td><td>2.32919e+06</td><td>710681</td><td>748472</td><td>2.3226e+06</td><td>2.32469e+06</td><td>743213</td><td>718669</td><td>698578</td><td>727024</td><td class=vellipsis>&hellip;</td><td>795505</td><td>721383</td><td>2.22463e+06</td><td>2.33953e+06</td><td>776938</td></tr>\n",
       "    <tr><td class='row_index'>9</td><td>20030100014758</td><td>4.37708e+06</td><td>3.93927e+06</td><td>1.24045e+06</td><td>7.46336e+06</td><td>1.39314e+06</td><td>4.3484e+06</td><td>3.99478e+06</td><td>4.54446e+06</td><td>1.16956e+06</td><td class=vellipsis>&hellip;</td><td>1.28237e+06</td><td>4.35782e+06</td><td>7.49604e+06</td><td>6.2589e+06</td><td>7.30432e+06</td></tr>\n",
       "  </tbody>\n",
       "  </table>\n",
       "  <div class='footer'>\n",
       "    <div class='frame_dimensions'>10 rows &times; 161 columns</div>\n",
       "  </div>\n",
       "</div>\n"
      ],
      "text/plain": [
       "<Frame [10 rows x 161 cols]>"
      ]
     },
     "execution_count": 14,
     "metadata": {},
     "output_type": "execute_result"
    }
   ],
   "source": [
    "datatable_df.head(10)"
   ]
  },
  {
   "cell_type": "code",
   "execution_count": 15,
   "metadata": {},
   "outputs": [
    {
     "name": "stdout",
     "output_type": "stream",
     "text": [
      "CPU times: user 181 ms, sys: 7.83 ms, total: 189 ms\n",
      "Wall time: 77.8 ms\n"
     ]
    },
    {
     "data": {
      "text/html": [
       "<div class='datatable'>\n",
       "  <table class='frame'>\n",
       "  <thead>\n",
       "    <tr class='colnames'><td class='row_index'></td><th>tucaseid</th><th>tufnwgtp001</th><th>tufnwgtp002</th><th>tufnwgtp003</th><th>tufnwgtp004</th><th>tufnwgtp005</th><th>tufnwgtp006</th><th>tufnwgtp007</th><th>tufnwgtp008</th><th>tufnwgtp009</th><th class='vellipsis'>&hellip;</th><th>tufnwgtp156</th><th>tufnwgtp157</th><th>tufnwgtp158</th><th>tufnwgtp159</th><th>tufnwgtp160</th></tr>\n",
       "    <tr class='coltypes'><td class='row_index'></td><td class='integer' title='int64'>&#x25AA;&#x25AA;&#x25AA;&#x25AA;&#x25AA;&#x25AA;&#x25AA;&#x25AA;</td><td class='float' title='float64'>&#x25AA;&#x25AA;&#x25AA;&#x25AA;&#x25AA;&#x25AA;&#x25AA;&#x25AA;</td><td class='float' title='float64'>&#x25AA;&#x25AA;&#x25AA;&#x25AA;&#x25AA;&#x25AA;&#x25AA;&#x25AA;</td><td class='float' title='float64'>&#x25AA;&#x25AA;&#x25AA;&#x25AA;&#x25AA;&#x25AA;&#x25AA;&#x25AA;</td><td class='float' title='float64'>&#x25AA;&#x25AA;&#x25AA;&#x25AA;&#x25AA;&#x25AA;&#x25AA;&#x25AA;</td><td class='float' title='float64'>&#x25AA;&#x25AA;&#x25AA;&#x25AA;&#x25AA;&#x25AA;&#x25AA;&#x25AA;</td><td class='float' title='float64'>&#x25AA;&#x25AA;&#x25AA;&#x25AA;&#x25AA;&#x25AA;&#x25AA;&#x25AA;</td><td class='float' title='float64'>&#x25AA;&#x25AA;&#x25AA;&#x25AA;&#x25AA;&#x25AA;&#x25AA;&#x25AA;</td><td class='float' title='float64'>&#x25AA;&#x25AA;&#x25AA;&#x25AA;&#x25AA;&#x25AA;&#x25AA;&#x25AA;</td><td class='float' title='float64'>&#x25AA;&#x25AA;&#x25AA;&#x25AA;&#x25AA;&#x25AA;&#x25AA;&#x25AA;</td><td></td><td class='float' title='float64'>&#x25AA;&#x25AA;&#x25AA;&#x25AA;&#x25AA;&#x25AA;&#x25AA;&#x25AA;</td><td class='float' title='float64'>&#x25AA;&#x25AA;&#x25AA;&#x25AA;&#x25AA;&#x25AA;&#x25AA;&#x25AA;</td><td class='float' title='float64'>&#x25AA;&#x25AA;&#x25AA;&#x25AA;&#x25AA;&#x25AA;&#x25AA;&#x25AA;</td><td class='float' title='float64'>&#x25AA;&#x25AA;&#x25AA;&#x25AA;&#x25AA;&#x25AA;&#x25AA;&#x25AA;</td><td class='float' title='float64'>&#x25AA;&#x25AA;&#x25AA;&#x25AA;&#x25AA;&#x25AA;&#x25AA;&#x25AA;</td></tr>\n",
       "  </thead>\n",
       "  <tbody>\n",
       "    <tr><td class='row_index'>0</td><td>20030100013280</td><td>7.32343e+06</td><td>1.22e+07</td><td>8.88601e+06</td><td>9.01123e+06</td><td>7.60598e+06</td><td>6.80462e+06</td><td>1.37e+07</td><td>7.41393e+06</td><td>9.35468e+06</td><td class=vellipsis>&hellip;</td><td>1.35e+07</td><td>2.73467e+06</td><td>2.51286e+06</td><td>6.80225e+06</td><td>8.12995e+06</td></tr>\n",
       "    <tr><td class='row_index'>1</td><td>20030100013344</td><td>1.70609e+06</td><td>1.57554e+06</td><td>523672</td><td>1.8564e+06</td><td>1.61189e+06</td><td>1.79468e+06</td><td>468671</td><td>3.02738e+06</td><td>1.77484e+06</td><td class=vellipsis>&hellip;</td><td>525904</td><td>1.58616e+06</td><td>1.80455e+06</td><td>512254</td><td>1.81992e+06</td></tr>\n",
       "    <tr><td class='row_index'>2</td><td>20030100013352</td><td>3.89256e+06</td><td>6.52829e+06</td><td>3.34511e+06</td><td>6.60596e+06</td><td>3.65019e+06</td><td>3.77664e+06</td><td>1.17675e+06</td><td>4.12164e+06</td><td>1.3093e+06</td><td class=vellipsis>&hellip;</td><td>6.73163e+06</td><td>3.57887e+06</td><td>4.03487e+06</td><td>1.08161e+06</td><td>3.68312e+06</td></tr>\n",
       "    <tr><td class='row_index'>3</td><td>20030100013848</td><td>3.21926e+06</td><td>3.12201e+06</td><td>9.1299e+06</td><td>3.20152e+06</td><td>3.63012e+06</td><td>3.39809e+06</td><td>3.15618e+06</td><td>1.13e+07</td><td>8.87672e+06</td><td class=vellipsis>&hellip;</td><td>3.01282e+06</td><td>3.32384e+06</td><td>3.65837e+06</td><td>8.72612e+06</td><td>3.2392e+06</td></tr>\n",
       "    <tr><td class='row_index'>4</td><td>20030100014165</td><td>4.51995e+06</td><td>5.17918e+06</td><td>4.12957e+06</td><td>4.12432e+06</td><td>4.10125e+06</td><td>5.00283e+06</td><td>5.68551e+06</td><td>4.83517e+06</td><td>4.13746e+06</td><td class=vellipsis>&hellip;</td><td>4.428e+06</td><td>5.04788e+06</td><td>4.82298e+06</td><td>4.98684e+06</td><td>5.31406e+06</td></tr>\n",
       "    <tr><td class='row_index'>5</td><td>20030100014169</td><td>4.68213e+06</td><td>5.54459e+06</td><td>5.64116e+06</td><td>4.85494e+06</td><td>4.97403e+06</td><td>5.04174e+06</td><td>6.10914e+06</td><td>5.42792e+06</td><td>5.68268e+06</td><td class=vellipsis>&hellip;</td><td>4.58169e+06</td><td>5.46277e+06</td><td>5.65248e+06</td><td>5.00736e+06</td><td>5.71712e+06</td></tr>\n",
       "    <tr><td class='row_index'>6</td><td>20030100014209</td><td>1.71432e+06</td><td>1.77058e+06</td><td>2.5977e+06</td><td>1.79126e+06</td><td>506434</td><td>1.63347e+06</td><td>1.70546e+06</td><td>1.78156e+06</td><td>2.82102e+06</td><td class=vellipsis>&hellip;</td><td>2.5968e+06</td><td>1.62395e+06</td><td>490058</td><td>1.94282e+06</td><td>1.7205e+06</td></tr>\n",
       "    <tr><td class='row_index'>7</td><td>20030100014427</td><td>6.82031e+06</td><td>1.17e+07</td><td>6.28724e+06</td><td>7.23691e+06</td><td>9.64731e+06</td><td>6.21568e+06</td><td>1.07e+07</td><td>1.92017e+06</td><td>2.30584e+06</td><td class=vellipsis>&hellip;</td><td>7.7229e+06</td><td>1.07e+07</td><td>1.14e+07</td><td>1.98171e+06</td><td>6.44918e+06</td></tr>\n",
       "    <tr><td class='row_index'>8</td><td>20030100014550</td><td>2.32919e+06</td><td>710681</td><td>748472</td><td>2.3226e+06</td><td>2.32469e+06</td><td>743213</td><td>718669</td><td>698578</td><td>727024</td><td class=vellipsis>&hellip;</td><td>795505</td><td>721383</td><td>2.22463e+06</td><td>2.33953e+06</td><td>776938</td></tr>\n",
       "    <tr><td class='row_index'>9</td><td>20030100014758</td><td>4.37708e+06</td><td>3.93927e+06</td><td>1.24045e+06</td><td>7.46336e+06</td><td>1.39314e+06</td><td>4.3484e+06</td><td>3.99478e+06</td><td>4.54446e+06</td><td>1.16956e+06</td><td class=vellipsis>&hellip;</td><td>1.28237e+06</td><td>4.35782e+06</td><td>7.49604e+06</td><td>6.2589e+06</td><td>7.30432e+06</td></tr>\n",
       "    <tr><td class='row_index'>10</td><td>20030100014928</td><td>2.07965e+06</td><td>3.25736e+06</td><td>2.98043e+06</td><td>1.9518e+06</td><td>2.16271e+06</td><td>2.30047e+06</td><td>1.82612e+06</td><td>563713</td><td>3.46236e+06</td><td class=vellipsis>&hellip;</td><td>645205</td><td>3.53213e+06</td><td>1.76158e+06</td><td>1.89971e+06</td><td>1.87201e+06</td></tr>\n",
       "    <tr><td class='row_index'>11</td><td>20030100015106</td><td>509951</td><td>468855</td><td>498236</td><td>148232</td><td>884136</td><td>486458</td><td>468608</td><td>133828</td><td>816808</td><td class=vellipsis>&hellip;</td><td>515601</td><td>138543</td><td>492326</td><td>531928</td><td>147506</td></tr>\n",
       "    <tr><td class='row_index'>12</td><td>20030100015322</td><td>3.26532e+06</td><td>2.91174e+06</td><td>3.26616e+06</td><td>3.5289e+06</td><td>966561</td><td>1.19139e+06</td><td>2.89682e+06</td><td>1.07868e+06</td><td>1.14126e+06</td><td class=vellipsis>&hellip;</td><td>3.37162e+06</td><td>1.02399e+06</td><td>3.45603e+06</td><td>1.09325e+06</td><td>3.35336e+06</td></tr>\n",
       "    <tr><td class='row_index'>13</td><td>20030100015390</td><td>5.30187e+06</td><td>8.16714e+06</td><td>1.38242e+06</td><td>5.33043e+06</td><td>4.78021e+06</td><td>1.47084e+06</td><td>5.0794e+06</td><td>5.47946e+06</td><td>9.11771e+06</td><td class=vellipsis>&hellip;</td><td>9.02854e+06</td><td>5.88888e+06</td><td>9.14567e+06</td><td>9.63591e+06</td><td>1.75697e+06</td></tr>\n",
       "    <tr><td class='row_index'>14</td><td>20030100015490</td><td>1.07441e+06</td><td>1.00031e+06</td><td>1.77712e+06</td><td>313751</td><td>311731</td><td>1.04266e+06</td><td>290793</td><td>976066</td><td>1.74847e+06</td><td class=vellipsis>&hellip;</td><td>1.1108e+06</td><td>291110</td><td>1.03468e+06</td><td>1.0895e+06</td><td>317394</td></tr>\n",
       "    <tr><td class='row_index'>&#x22EE;</td><td class='hellipsis'>&#x22EE;</td><td class='hellipsis'>&#x22EE;</td><td class='hellipsis'>&#x22EE;</td><td class='hellipsis'>&#x22EE;</td><td class='hellipsis'>&#x22EE;</td><td class='hellipsis'>&#x22EE;</td><td class='hellipsis'>&#x22EE;</td><td class='hellipsis'>&#x22EE;</td><td class='hellipsis'>&#x22EE;</td><td class='hellipsis'>&#x22EE;</td><td class='hellipsis'>&#x22F1;</td><td class='hellipsis'>&#x22EE;</td><td class='hellipsis'>&#x22EE;</td><td class='hellipsis'>&#x22EE;</td><td class='hellipsis'>&#x22EE;</td><td class='hellipsis'>&#x22EE;</td></tr>\n",
       "    <tr><td class='row_index'>170,837</td><td>20151212152375</td><td>2.95474e+06</td><td>821634</td><td>827040</td><td>3.00436e+06</td><td>4.32886e+06</td><td>2.80208e+06</td><td>3.02104e+06</td><td>3.31773e+06</td><td>2.70144e+06</td><td class=vellipsis>&hellip;</td><td>2.88874e+06</td><td>2.57228e+06</td><td>5.05684e+06</td><td>2.42419e+06</td><td>4.5529e+06</td></tr>\n",
       "    <tr><td class='row_index'>170,838</td><td>20151212152399</td><td>2.1575e+06</td><td>3.1533e+06</td><td>638740</td><td>3.07566e+06</td><td>1.78569e+06</td><td>726185</td><td>730710</td><td>651707</td><td>2.21086e+06</td><td class=vellipsis>&hellip;</td><td>2.64057e+06</td><td>2.22343e+06</td><td>671961</td><td>539100</td><td>3.36053e+06</td></tr>\n",
       "    <tr><td class='row_index'>170,839</td><td>20151212152468</td><td>1.1943e+06</td><td>1.34542e+06</td><td>1.26243e+06</td><td>356463</td><td>2.03294e+06</td><td>2.00969e+06</td><td>2.2181e+06</td><td>1.9702e+06</td><td>412137</td><td class=vellipsis>&hellip;</td><td>1.82786e+06</td><td>1.27884e+06</td><td>1.21994e+06</td><td>1.96975e+06</td><td>1.3632e+06</td></tr>\n",
       "    <tr><td class='row_index'>170,840</td><td>20151212152477</td><td>1.87781e+06</td><td>2.39885e+06</td><td>589824</td><td>1.57584e+06</td><td>1.65658e+06</td><td>461558</td><td>1.6788e+06</td><td>566252</td><td>3.43629e+06</td><td class=vellipsis>&hellip;</td><td>573234</td><td>2.13809e+06</td><td>596549</td><td>609085</td><td>3.04506e+06</td></tr>\n",
       "    <tr><td class='row_index'>170,841</td><td>20151212152498</td><td>3.35804e+06</td><td>1.09346e+06</td><td>3.57778e+06</td><td>1.03728e+06</td><td>5.7174e+06</td><td>3.99757e+06</td><td>4.09077e+06</td><td>3.85009e+06</td><td>6.07958e+06</td><td class=vellipsis>&hellip;</td><td>6.19758e+06</td><td>4.33785e+06</td><td>3.93198e+06</td><td>1.38226e+06</td><td>3.53458e+06</td></tr>\n",
       "  </tbody>\n",
       "  </table>\n",
       "  <div class='footer'>\n",
       "    <div class='frame_dimensions'>170,842 rows &times; 161 columns</div>\n",
       "  </div>\n",
       "</div>\n"
      ],
      "text/plain": [
       "<Frame [170842 rows x 161 cols]>"
      ]
     },
     "execution_count": 15,
     "metadata": {},
     "output_type": "execute_result"
    }
   ],
   "source": [
    "%%time\n",
    "datatable_df.sort('tucaseid')"
   ]
  },
  {
   "cell_type": "code",
   "execution_count": 17,
   "metadata": {},
   "outputs": [
    {
     "name": "stdout",
     "output_type": "stream",
     "text": [
      "CPU times: user 141 ms, sys: 784 ms, total: 925 ms\n",
      "Wall time: 1.07 s\n"
     ]
    },
    {
     "data": {
      "text/html": [
       "<div>\n",
       "<style scoped>\n",
       "    .dataframe tbody tr th:only-of-type {\n",
       "        vertical-align: middle;\n",
       "    }\n",
       "\n",
       "    .dataframe tbody tr th {\n",
       "        vertical-align: top;\n",
       "    }\n",
       "\n",
       "    .dataframe thead th {\n",
       "        text-align: right;\n",
       "    }\n",
       "</style>\n",
       "<table border=\"1\" class=\"dataframe\">\n",
       "  <thead>\n",
       "    <tr style=\"text-align: right;\">\n",
       "      <th></th>\n",
       "      <th>tucaseid</th>\n",
       "      <th>tufnwgtp001</th>\n",
       "      <th>tufnwgtp002</th>\n",
       "      <th>tufnwgtp003</th>\n",
       "      <th>tufnwgtp004</th>\n",
       "      <th>tufnwgtp005</th>\n",
       "      <th>tufnwgtp006</th>\n",
       "      <th>tufnwgtp007</th>\n",
       "      <th>tufnwgtp008</th>\n",
       "      <th>tufnwgtp009</th>\n",
       "      <th>...</th>\n",
       "      <th>tufnwgtp151</th>\n",
       "      <th>tufnwgtp152</th>\n",
       "      <th>tufnwgtp153</th>\n",
       "      <th>tufnwgtp154</th>\n",
       "      <th>tufnwgtp155</th>\n",
       "      <th>tufnwgtp156</th>\n",
       "      <th>tufnwgtp157</th>\n",
       "      <th>tufnwgtp158</th>\n",
       "      <th>tufnwgtp159</th>\n",
       "      <th>tufnwgtp160</th>\n",
       "    </tr>\n",
       "  </thead>\n",
       "  <tbody>\n",
       "    <tr>\n",
       "      <th>0</th>\n",
       "      <td>20030100013280</td>\n",
       "      <td>7323431.0</td>\n",
       "      <td>12200000.0</td>\n",
       "      <td>8886007.0</td>\n",
       "      <td>9011231.0</td>\n",
       "      <td>7605981.0</td>\n",
       "      <td>6804623.0</td>\n",
       "      <td>13700000.0</td>\n",
       "      <td>7413934.0</td>\n",
       "      <td>9354676.0</td>\n",
       "      <td>...</td>\n",
       "      <td>2452110.0</td>\n",
       "      <td>13600000.0</td>\n",
       "      <td>8928899.0</td>\n",
       "      <td>2212950.0</td>\n",
       "      <td>14600000.0</td>\n",
       "      <td>13500000.0</td>\n",
       "      <td>2734672.0</td>\n",
       "      <td>2512855.0</td>\n",
       "      <td>6802246.0</td>\n",
       "      <td>8129954.0</td>\n",
       "    </tr>\n",
       "    <tr>\n",
       "      <th>1</th>\n",
       "      <td>20030100013344</td>\n",
       "      <td>1706094.0</td>\n",
       "      <td>1575540.0</td>\n",
       "      <td>523672.2</td>\n",
       "      <td>1856400.0</td>\n",
       "      <td>1611886.0</td>\n",
       "      <td>1794675.0</td>\n",
       "      <td>468670.8</td>\n",
       "      <td>3027375.0</td>\n",
       "      <td>1774845.0</td>\n",
       "      <td>...</td>\n",
       "      <td>1849759.0</td>\n",
       "      <td>509686.1</td>\n",
       "      <td>1708765.0</td>\n",
       "      <td>1744368.0</td>\n",
       "      <td>2973146.0</td>\n",
       "      <td>525903.9</td>\n",
       "      <td>1586163.0</td>\n",
       "      <td>1804548.0</td>\n",
       "      <td>512254.3</td>\n",
       "      <td>1819915.0</td>\n",
       "    </tr>\n",
       "    <tr>\n",
       "      <th>2</th>\n",
       "      <td>20030100013352</td>\n",
       "      <td>3892565.0</td>\n",
       "      <td>6528291.0</td>\n",
       "      <td>3345109.0</td>\n",
       "      <td>6605955.0</td>\n",
       "      <td>3650190.0</td>\n",
       "      <td>3776635.0</td>\n",
       "      <td>1176752.0</td>\n",
       "      <td>4121644.0</td>\n",
       "      <td>1309301.0</td>\n",
       "      <td>...</td>\n",
       "      <td>1094320.0</td>\n",
       "      <td>1098442.0</td>\n",
       "      <td>6044279.0</td>\n",
       "      <td>3778100.0</td>\n",
       "      <td>4081787.0</td>\n",
       "      <td>6731627.0</td>\n",
       "      <td>3578866.0</td>\n",
       "      <td>4034873.0</td>\n",
       "      <td>1081614.0</td>\n",
       "      <td>3683122.0</td>\n",
       "    </tr>\n",
       "    <tr>\n",
       "      <th>3</th>\n",
       "      <td>20030100013848</td>\n",
       "      <td>3219262.0</td>\n",
       "      <td>3122009.0</td>\n",
       "      <td>9129897.0</td>\n",
       "      <td>3201523.0</td>\n",
       "      <td>3630115.0</td>\n",
       "      <td>3398091.0</td>\n",
       "      <td>3156185.0</td>\n",
       "      <td>11300000.0</td>\n",
       "      <td>8876725.0</td>\n",
       "      <td>...</td>\n",
       "      <td>3094948.0</td>\n",
       "      <td>3578834.0</td>\n",
       "      <td>10800000.0</td>\n",
       "      <td>9736929.0</td>\n",
       "      <td>3051383.0</td>\n",
       "      <td>3012823.0</td>\n",
       "      <td>3323835.0</td>\n",
       "      <td>3658369.0</td>\n",
       "      <td>8726122.0</td>\n",
       "      <td>3239196.0</td>\n",
       "    </tr>\n",
       "    <tr>\n",
       "      <th>4</th>\n",
       "      <td>20030100014165</td>\n",
       "      <td>4519952.0</td>\n",
       "      <td>5179182.0</td>\n",
       "      <td>4129573.0</td>\n",
       "      <td>4124324.0</td>\n",
       "      <td>4101250.0</td>\n",
       "      <td>5002828.0</td>\n",
       "      <td>5685514.0</td>\n",
       "      <td>4835168.0</td>\n",
       "      <td>4137455.0</td>\n",
       "      <td>...</td>\n",
       "      <td>4807747.0</td>\n",
       "      <td>4591733.0</td>\n",
       "      <td>4012991.0</td>\n",
       "      <td>4138960.0</td>\n",
       "      <td>4304037.0</td>\n",
       "      <td>4428005.0</td>\n",
       "      <td>5047876.0</td>\n",
       "      <td>4822984.0</td>\n",
       "      <td>4986841.0</td>\n",
       "      <td>5314065.0</td>\n",
       "    </tr>\n",
       "    <tr>\n",
       "      <th>...</th>\n",
       "      <td>...</td>\n",
       "      <td>...</td>\n",
       "      <td>...</td>\n",
       "      <td>...</td>\n",
       "      <td>...</td>\n",
       "      <td>...</td>\n",
       "      <td>...</td>\n",
       "      <td>...</td>\n",
       "      <td>...</td>\n",
       "      <td>...</td>\n",
       "      <td>...</td>\n",
       "      <td>...</td>\n",
       "      <td>...</td>\n",
       "      <td>...</td>\n",
       "      <td>...</td>\n",
       "      <td>...</td>\n",
       "      <td>...</td>\n",
       "      <td>...</td>\n",
       "      <td>...</td>\n",
       "      <td>...</td>\n",
       "      <td>...</td>\n",
       "    </tr>\n",
       "    <tr>\n",
       "      <th>170837</th>\n",
       "      <td>20151212152375</td>\n",
       "      <td>2954741.0</td>\n",
       "      <td>821634.4</td>\n",
       "      <td>827039.9</td>\n",
       "      <td>3004363.0</td>\n",
       "      <td>4328857.0</td>\n",
       "      <td>2802076.0</td>\n",
       "      <td>3021041.0</td>\n",
       "      <td>3317727.0</td>\n",
       "      <td>2701443.0</td>\n",
       "      <td>...</td>\n",
       "      <td>2587483.0</td>\n",
       "      <td>901999.5</td>\n",
       "      <td>3130971.0</td>\n",
       "      <td>692642.6</td>\n",
       "      <td>2566600.0</td>\n",
       "      <td>2888740.0</td>\n",
       "      <td>2572279.0</td>\n",
       "      <td>5056840.0</td>\n",
       "      <td>2424193.0</td>\n",
       "      <td>4552896.0</td>\n",
       "    </tr>\n",
       "    <tr>\n",
       "      <th>170838</th>\n",
       "      <td>20151212152399</td>\n",
       "      <td>2157504.0</td>\n",
       "      <td>3153304.0</td>\n",
       "      <td>638739.6</td>\n",
       "      <td>3075662.0</td>\n",
       "      <td>1785693.0</td>\n",
       "      <td>726184.9</td>\n",
       "      <td>730710.3</td>\n",
       "      <td>651706.7</td>\n",
       "      <td>2210855.0</td>\n",
       "      <td>...</td>\n",
       "      <td>1916357.0</td>\n",
       "      <td>3684703.0</td>\n",
       "      <td>604681.0</td>\n",
       "      <td>3798818.0</td>\n",
       "      <td>3809017.0</td>\n",
       "      <td>2640569.0</td>\n",
       "      <td>2223429.0</td>\n",
       "      <td>671960.9</td>\n",
       "      <td>539100.4</td>\n",
       "      <td>3360533.0</td>\n",
       "    </tr>\n",
       "    <tr>\n",
       "      <th>170839</th>\n",
       "      <td>20151212152468</td>\n",
       "      <td>1194295.0</td>\n",
       "      <td>1345424.0</td>\n",
       "      <td>1262434.0</td>\n",
       "      <td>356462.9</td>\n",
       "      <td>2032944.0</td>\n",
       "      <td>2009690.0</td>\n",
       "      <td>2218102.0</td>\n",
       "      <td>1970196.0</td>\n",
       "      <td>412137.1</td>\n",
       "      <td>...</td>\n",
       "      <td>1249891.0</td>\n",
       "      <td>373061.3</td>\n",
       "      <td>2029005.0</td>\n",
       "      <td>1145102.0</td>\n",
       "      <td>1243491.0</td>\n",
       "      <td>1827865.0</td>\n",
       "      <td>1278836.0</td>\n",
       "      <td>1219942.0</td>\n",
       "      <td>1969749.0</td>\n",
       "      <td>1363205.0</td>\n",
       "    </tr>\n",
       "    <tr>\n",
       "      <th>170840</th>\n",
       "      <td>20151212152477</td>\n",
       "      <td>1877806.0</td>\n",
       "      <td>2398854.0</td>\n",
       "      <td>589824.3</td>\n",
       "      <td>1575835.0</td>\n",
       "      <td>1656583.0</td>\n",
       "      <td>461558.5</td>\n",
       "      <td>1678805.0</td>\n",
       "      <td>566252.2</td>\n",
       "      <td>3436291.0</td>\n",
       "      <td>...</td>\n",
       "      <td>1869456.0</td>\n",
       "      <td>1941784.0</td>\n",
       "      <td>1788912.0</td>\n",
       "      <td>2830570.0</td>\n",
       "      <td>1603577.0</td>\n",
       "      <td>573233.8</td>\n",
       "      <td>2138088.0</td>\n",
       "      <td>596549.4</td>\n",
       "      <td>609085.2</td>\n",
       "      <td>3045056.0</td>\n",
       "    </tr>\n",
       "    <tr>\n",
       "      <th>170841</th>\n",
       "      <td>20151212152498</td>\n",
       "      <td>3358045.0</td>\n",
       "      <td>1093456.0</td>\n",
       "      <td>3577778.0</td>\n",
       "      <td>1037283.0</td>\n",
       "      <td>5717402.0</td>\n",
       "      <td>3997574.0</td>\n",
       "      <td>4090771.0</td>\n",
       "      <td>3850092.0</td>\n",
       "      <td>6079584.0</td>\n",
       "      <td>...</td>\n",
       "      <td>3442451.0</td>\n",
       "      <td>1020170.0</td>\n",
       "      <td>3641768.0</td>\n",
       "      <td>3649453.0</td>\n",
       "      <td>1091809.0</td>\n",
       "      <td>6197581.0</td>\n",
       "      <td>4337848.0</td>\n",
       "      <td>3931981.0</td>\n",
       "      <td>1382259.0</td>\n",
       "      <td>3534575.0</td>\n",
       "    </tr>\n",
       "  </tbody>\n",
       "</table>\n",
       "<p>170842 rows × 161 columns</p>\n",
       "</div>"
      ],
      "text/plain": [
       "              tucaseid  tufnwgtp001  tufnwgtp002  tufnwgtp003  tufnwgtp004  \\\n",
       "0       20030100013280    7323431.0   12200000.0    8886007.0    9011231.0   \n",
       "1       20030100013344    1706094.0    1575540.0     523672.2    1856400.0   \n",
       "2       20030100013352    3892565.0    6528291.0    3345109.0    6605955.0   \n",
       "3       20030100013848    3219262.0    3122009.0    9129897.0    3201523.0   \n",
       "4       20030100014165    4519952.0    5179182.0    4129573.0    4124324.0   \n",
       "...                ...          ...          ...          ...          ...   \n",
       "170837  20151212152375    2954741.0     821634.4     827039.9    3004363.0   \n",
       "170838  20151212152399    2157504.0    3153304.0     638739.6    3075662.0   \n",
       "170839  20151212152468    1194295.0    1345424.0    1262434.0     356462.9   \n",
       "170840  20151212152477    1877806.0    2398854.0     589824.3    1575835.0   \n",
       "170841  20151212152498    3358045.0    1093456.0    3577778.0    1037283.0   \n",
       "\n",
       "        tufnwgtp005  tufnwgtp006  tufnwgtp007  tufnwgtp008  tufnwgtp009  ...  \\\n",
       "0         7605981.0    6804623.0   13700000.0    7413934.0    9354676.0  ...   \n",
       "1         1611886.0    1794675.0     468670.8    3027375.0    1774845.0  ...   \n",
       "2         3650190.0    3776635.0    1176752.0    4121644.0    1309301.0  ...   \n",
       "3         3630115.0    3398091.0    3156185.0   11300000.0    8876725.0  ...   \n",
       "4         4101250.0    5002828.0    5685514.0    4835168.0    4137455.0  ...   \n",
       "...             ...          ...          ...          ...          ...  ...   \n",
       "170837    4328857.0    2802076.0    3021041.0    3317727.0    2701443.0  ...   \n",
       "170838    1785693.0     726184.9     730710.3     651706.7    2210855.0  ...   \n",
       "170839    2032944.0    2009690.0    2218102.0    1970196.0     412137.1  ...   \n",
       "170840    1656583.0     461558.5    1678805.0     566252.2    3436291.0  ...   \n",
       "170841    5717402.0    3997574.0    4090771.0    3850092.0    6079584.0  ...   \n",
       "\n",
       "        tufnwgtp151  tufnwgtp152  tufnwgtp153  tufnwgtp154  tufnwgtp155  \\\n",
       "0         2452110.0   13600000.0    8928899.0    2212950.0   14600000.0   \n",
       "1         1849759.0     509686.1    1708765.0    1744368.0    2973146.0   \n",
       "2         1094320.0    1098442.0    6044279.0    3778100.0    4081787.0   \n",
       "3         3094948.0    3578834.0   10800000.0    9736929.0    3051383.0   \n",
       "4         4807747.0    4591733.0    4012991.0    4138960.0    4304037.0   \n",
       "...             ...          ...          ...          ...          ...   \n",
       "170837    2587483.0     901999.5    3130971.0     692642.6    2566600.0   \n",
       "170838    1916357.0    3684703.0     604681.0    3798818.0    3809017.0   \n",
       "170839    1249891.0     373061.3    2029005.0    1145102.0    1243491.0   \n",
       "170840    1869456.0    1941784.0    1788912.0    2830570.0    1603577.0   \n",
       "170841    3442451.0    1020170.0    3641768.0    3649453.0    1091809.0   \n",
       "\n",
       "        tufnwgtp156  tufnwgtp157  tufnwgtp158  tufnwgtp159  tufnwgtp160  \n",
       "0        13500000.0    2734672.0    2512855.0    6802246.0    8129954.0  \n",
       "1          525903.9    1586163.0    1804548.0     512254.3    1819915.0  \n",
       "2         6731627.0    3578866.0    4034873.0    1081614.0    3683122.0  \n",
       "3         3012823.0    3323835.0    3658369.0    8726122.0    3239196.0  \n",
       "4         4428005.0    5047876.0    4822984.0    4986841.0    5314065.0  \n",
       "...             ...          ...          ...          ...          ...  \n",
       "170837    2888740.0    2572279.0    5056840.0    2424193.0    4552896.0  \n",
       "170838    2640569.0    2223429.0     671960.9     539100.4    3360533.0  \n",
       "170839    1827865.0    1278836.0    1219942.0    1969749.0    1363205.0  \n",
       "170840     573233.8    2138088.0     596549.4     609085.2    3045056.0  \n",
       "170841    6197581.0    4337848.0    3931981.0    1382259.0    3534575.0  \n",
       "\n",
       "[170842 rows x 161 columns]"
      ]
     },
     "execution_count": 17,
     "metadata": {},
     "output_type": "execute_result"
    }
   ],
   "source": [
    "%%time\n",
    "pandas_df.sort_values(by = 'tucaseid')"
   ]
  },
  {
   "cell_type": "code",
   "execution_count": null,
   "metadata": {},
   "outputs": [],
   "source": []
  }
 ],
 "metadata": {
  "kernelspec": {
   "display_name": "Python 3",
   "language": "python",
   "name": "python3"
  },
  "language_info": {
   "codemirror_mode": {
    "name": "ipython",
    "version": 3
   },
   "file_extension": ".py",
   "mimetype": "text/x-python",
   "name": "python",
   "nbconvert_exporter": "python",
   "pygments_lexer": "ipython3",
   "version": "3.7.6"
  }
 },
 "nbformat": 4,
 "nbformat_minor": 4
}
