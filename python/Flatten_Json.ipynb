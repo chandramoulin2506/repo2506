{
 "cells": [
  {
   "cell_type": "code",
   "execution_count": 9,
   "metadata": {},
   "outputs": [],
   "source": [
    "import json\n",
    "from pandas.io.json import json_normalize"
   ]
  },
  {
   "cell_type": "code",
   "execution_count": 2,
   "metadata": {},
   "outputs": [],
   "source": [
    "def flatten_json_layer(nested_json, exclude=['']):\n",
    "    \"\"\"Flatten json object with nested keys into a single level.\n",
    "        Args:\n",
    "            nested_json: A nested json object.\n",
    "            exclude: Keys to exclude from output.\n",
    "        Returns:\n",
    "            The flattened json object if successful, None otherwise.\n",
    "    \"\"\"\n",
    "    out = {}\n",
    "\n",
    "    def flatten(x, name='', exclude=exclude):\n",
    "        if type(x) is dict:\n",
    "            for a in x:\n",
    "                if a not in exclude: flatten(x[a], name + a + '_')\n",
    "        elif type(x) is list:\n",
    "            i = 0\n",
    "            for a in x:\n",
    "                flatten(a, name + str(i) + '_')\n",
    "                i += 1\n",
    "        else:\n",
    "            out[name[:-1]] = x\n",
    "\n",
    "    flatten(nested_json)\n",
    "    return out"
   ]
  },
  {
   "cell_type": "code",
   "execution_count": 12,
   "metadata": {},
   "outputs": [
    {
     "data": {
      "text/plain": [
       "'\\n{\\n  \"count\": 13,\\n  \"virtualmachine\": [\\n    {\\n      \"id\": \"1082e2ed-ff66-40b1-a41b-26061afd4a0b\",\\n      \"name\": \"test-2\",\\n      \"displayname\": \"test-2\",\\n      \"securitygroup\": [\\n        {\\n          \"id\": \"9e649fbc-3e64-4395-9629-5e1215b34e58\",\\n          \"name\": \"test\",\\n          \"tags\": []\\n        }\\n      ],\\n      \"nic\": [\\n        {\\n          \"id\": \"79568b14-b377-4d4f-b024-87dc22492b8e\",\\n          \"networkid\": \"05c0e278-7ab4-4a6d-aa9c-3158620b6471\"\\n        },\\n        {\\n          \"id\": \"3d7f2818-1f19-46e7-aa98-956526c5b1ad\",\\n          \"networkid\": \"b4648cfd-0795-43fc-9e50-6ee9ddefc5bd\",\\n          \"traffictype\": \"Guest\"\\n        }\\n      ],\\n      \"hypervisor\": \"KVM\",\\n      \"affinitygroup\": [],\\n      \"isdynamicallyscalable\": false\\n    }\\n  ]\\n}\\n\\n\\n'"
      ]
     },
     "execution_count": 12,
     "metadata": {},
     "output_type": "execute_result"
    }
   ],
   "source": [
    "\"\"\"\n",
    "{\n",
    "  \"count\": 13,\n",
    "  \"virtualmachine\": [\n",
    "    {\n",
    "      \"id\": \"1082e2ed-ff66-40b1-a41b-26061afd4a0b\",\n",
    "      \"name\": \"test-2\",\n",
    "      \"displayname\": \"test-2\",\n",
    "      \"securitygroup\": [\n",
    "        {\n",
    "          \"id\": \"9e649fbc-3e64-4395-9629-5e1215b34e58\",\n",
    "          \"name\": \"test\",\n",
    "          \"tags\": []\n",
    "        }\n",
    "      ],\n",
    "      \"nic\": [\n",
    "        {\n",
    "          \"id\": \"79568b14-b377-4d4f-b024-87dc22492b8e\",\n",
    "          \"networkid\": \"05c0e278-7ab4-4a6d-aa9c-3158620b6471\"\n",
    "        },\n",
    "        {\n",
    "          \"id\": \"3d7f2818-1f19-46e7-aa98-956526c5b1ad\",\n",
    "          \"networkid\": \"b4648cfd-0795-43fc-9e50-6ee9ddefc5bd\",\n",
    "          \"traffictype\": \"Guest\"\n",
    "        }\n",
    "      ],\n",
    "      \"hypervisor\": \"KVM\",\n",
    "      \"affinitygroup\": [],\n",
    "      \"isdynamicallyscalable\": false\n",
    "    }\n",
    "  ]\n",
    "}\n",
    "\n",
    "\n",
    "\"\"\""
   ]
  },
  {
   "cell_type": "code",
   "execution_count": 13,
   "metadata": {},
   "outputs": [],
   "source": [
    "with open(\"sample.json\", \"r\",encoding='utf-8') as read_file:\n",
    "    data = json.load(read_file)\n",
    "    flat = flatten_json_layer(data)"
   ]
  },
  {
   "cell_type": "code",
   "execution_count": 4,
   "metadata": {},
   "outputs": [],
   "source": [
    "with open(\"data_file_out.json\", \"w\") as write_file:\n",
    "    json.dump(flat, write_file)"
   ]
  },
  {
   "cell_type": "code",
   "execution_count": 7,
   "metadata": {
    "scrolled": true
   },
   "outputs": [
    {
     "name": "stdout",
     "output_type": "stream",
     "text": [
      "{'count': 13, 'virtualmachine_0_id': '1082e2ed-ff66-40b1-a41b-26061afd4a0b', 'virtualmachine_0_name': 'test-2', 'virtualmachine_0_displayname': 'test-2', 'virtualmachine_0_securitygroup_0_id': '9e649fbc-3e64-4395-9629-5e1215b34e58', 'virtualmachine_0_securitygroup_0_name': 'test', 'virtualmachine_0_nic_0_id': '79568b14-b377-4d4f-b024-87dc22492b8e', 'virtualmachine_0_nic_0_networkid': '05c0e278-7ab4-4a6d-aa9c-3158620b6471', 'virtualmachine_0_nic_1_id': '3d7f2818-1f19-46e7-aa98-956526c5b1ad', 'virtualmachine_0_nic_1_networkid': 'b4648cfd-0795-43fc-9e50-6ee9ddefc5bd', 'virtualmachine_0_nic_1_traffictype': 'Guest', 'virtualmachine_0_hypervisor': 'KVM', 'virtualmachine_0_isdynamicallyscalable': False}\n"
     ]
    }
   ],
   "source": [
    "print(flat)"
   ]
  }
 ],
 "metadata": {
  "kernelspec": {
   "display_name": "Python 3",
   "language": "python",
   "name": "python3"
  },
  "language_info": {
   "codemirror_mode": {
    "name": "ipython",
    "version": 3
   },
   "file_extension": ".py",
   "mimetype": "text/x-python",
   "name": "python",
   "nbconvert_exporter": "python",
   "pygments_lexer": "ipython3",
   "version": "3.7.4"
  }
 },
 "nbformat": 4,
 "nbformat_minor": 2
}
