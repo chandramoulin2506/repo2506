{
 "cells": [
  {
   "cell_type": "code",
   "execution_count": 2,
   "metadata": {},
   "outputs": [],
   "source": [
    "from pyspark.sql import SparkSession, HiveContext\n",
    "from pyspark.sql.types import *\n",
    "import pyspark.sql.functions as F\n",
    "import os\n",
    "\n",
    "spark = SparkSession \\\n",
    "    .builder \\\n",
    "    .appName(\"xml parser\") \\\n",
    "    .config(\"spark.driver.memory\", \"2g\") \\\n",
    "    .config(\"spark.executor.memory\", \"10g\") \\\n",
    "    .config(\"spark.executor.instances\",\"10\") \\\n",
    "    .enableHiveSupport()\\\n",
    "    .getOrCreate()"
   ]
  },
  {
   "cell_type": "code",
   "execution_count": 3,
   "metadata": {},
   "outputs": [],
   "source": [
    "os.environ['PYSPARK_SUBMIT_ARGS'] = '--packages com.databricks.spark.xml:spark-xml_2.11-0.9.0 pyspark-shell'"
   ]
  },
  {
   "cell_type": "code",
   "execution_count": 4,
   "metadata": {},
   "outputs": [],
   "source": [
    "df = spark.read.format(\"com.databricks.spark.xml\").option(\"rowTag\",\"Root\").load(\"file:///home/cm2506/Documents/data/customer.xml\")"
   ]
  },
  {
   "cell_type": "code",
   "execution_count": 5,
   "metadata": {},
   "outputs": [
    {
     "name": "stdout",
     "output_type": "stream",
     "text": [
      "root\n",
      " |-- Customers: struct (nullable = true)\n",
      " |    |-- Customer: array (nullable = true)\n",
      " |    |    |-- element: struct (containsNull = true)\n",
      " |    |    |    |-- CompanyName: string (nullable = true)\n",
      " |    |    |    |-- ContactName: string (nullable = true)\n",
      " |    |    |    |-- ContactTitle: string (nullable = true)\n",
      " |    |    |    |-- Fax: string (nullable = true)\n",
      " |    |    |    |-- FullAddress: struct (nullable = true)\n",
      " |    |    |    |    |-- Address: string (nullable = true)\n",
      " |    |    |    |    |-- City: string (nullable = true)\n",
      " |    |    |    |    |-- Country: string (nullable = true)\n",
      " |    |    |    |    |-- PostalCode: long (nullable = true)\n",
      " |    |    |    |    |-- Region: string (nullable = true)\n",
      " |    |    |    |-- Phone: string (nullable = true)\n",
      " |    |    |    |-- _CustomerID: string (nullable = true)\n",
      " |-- Orders: struct (nullable = true)\n",
      " |    |-- Order: array (nullable = true)\n",
      " |    |    |-- element: struct (containsNull = true)\n",
      " |    |    |    |-- CustomerID: string (nullable = true)\n",
      " |    |    |    |-- EmployeeID: long (nullable = true)\n",
      " |    |    |    |-- OrderDate: string (nullable = true)\n",
      " |    |    |    |-- RequiredDate: string (nullable = true)\n",
      " |    |    |    |-- ShipInfo: struct (nullable = true)\n",
      " |    |    |    |    |-- Freight: double (nullable = true)\n",
      " |    |    |    |    |-- ShipAddress: string (nullable = true)\n",
      " |    |    |    |    |-- ShipCity: string (nullable = true)\n",
      " |    |    |    |    |-- ShipCountry: string (nullable = true)\n",
      " |    |    |    |    |-- ShipName: string (nullable = true)\n",
      " |    |    |    |    |-- ShipPostalCode: long (nullable = true)\n",
      " |    |    |    |    |-- ShipRegion: string (nullable = true)\n",
      " |    |    |    |    |-- ShipVia: long (nullable = true)\n",
      " |    |    |    |    |-- _ShippedDate: string (nullable = true)\n",
      "\n"
     ]
    }
   ],
   "source": [
    "df.printSchema()"
   ]
  },
  {
   "cell_type": "code",
   "execution_count": 5,
   "metadata": {},
   "outputs": [
    {
     "data": {
      "text/plain": [
       "1"
      ]
     },
     "execution_count": 5,
     "metadata": {},
     "output_type": "execute_result"
    }
   ],
   "source": [
    "df.count()"
   ]
  },
  {
   "cell_type": "code",
   "execution_count": 7,
   "metadata": {},
   "outputs": [
    {
     "name": "stdout",
     "output_type": "stream",
     "text": [
      "flat_columns :  []\n",
      "array_columns []\n",
      "nested_columns : ['Customers', 'Orders']\n",
      "input_dataframe  array<,array<\n",
      "flat_columns :  []\n",
      "array_columns ['Customers_Customer', 'Orders_Order']\n",
      "nested_columns : []\n",
      "['Orders_Order', 'Customers_Customer']\n",
      "['Customers_Customer', 'Orders_Order']\n",
      "input_dataframe  struct,struct\n",
      "flat_columns :  []\n",
      "array_columns []\n",
      "nested_columns : ['Customers_Customer', 'Orders_Order']\n",
      "input_dataframe  string,string,string,string,struct,string,string,string,bigint,string,string,struct\n",
      "flat_columns :  ['Customers_Customer_CompanyName', 'Customers_Customer_ContactName', 'Customers_Customer_ContactTitle', 'Customers_Customer_Fax', 'Customers_Customer_Phone', 'Customers_Customer__CustomerID', 'Orders_Order_CustomerID', 'Orders_Order_EmployeeID', 'Orders_Order_OrderDate', 'Orders_Order_RequiredDate']\n",
      "array_columns []\n",
      "nested_columns : ['Customers_Customer_FullAddress', 'Orders_Order_ShipInfo']\n",
      "input_dataframe  string,string,string,string,string,string,string,bigint,string,string,string,string,string,bigint,string,double,string,string,string,string,bigint,string,bigint,string\n"
     ]
    }
   ],
   "source": [
    "field_info=[]\n",
    "field_info.append(1)\n",
    "def function_to_flatten_json(input_df):\n",
    "    flat_columns = [c[0] for c in input_df.dtypes if c[1][:6] != 'struct' and c[1][:5] !=\"array\"]\n",
    "    print(\"flat_columns : \",flat_columns )\n",
    "    nested_columns = [c[0] for c in input_df.dtypes if c[1][:6] == 'struct']\n",
    "    array_columns=[c[0] for c in input_df.dtypes if c[1][:5] == 'array']\n",
    "    print(\"array_columns\",array_columns)\n",
    "    print(\"nested_columns :\",nested_columns)\n",
    "    for ac in array_columns:\n",
    "        input_df=input_df.select(flat_columns+nested_columns+[x for x in array_columns if x != ac ]+[F.explode(ac).alias(ac)])\n",
    "        print(input_df.columns)\n",
    "    input_df = input_df.select(flat_columns +array_columns+\n",
    "                               [F.col(nested_column+'.'+c).alias(nested_column+'_'+c)\n",
    "                                for nested_column in nested_columns\n",
    "                                for c in input_df.select(nested_column+'.*').columns])\n",
    "    field_info.pop()\n",
    "    field_info.append(input_df)\n",
    "    print(\"input_dataframe \",\",\".join([x[1][:6] for x in input_df.dtypes]))\n",
    "    new_nested=[c[0] for c in input_df.dtypes if c[1][:6] == 'struct']\n",
    "    new_array=[c[0] for c in input_df.dtypes if c[1][:5] == 'array']\n",
    "    if new_nested or new_array :        \n",
    "        function_to_flatten_json(input_df)\n",
    "function_to_flatten_json(df)\n",
    "field_info_df=field_info[0]"
   ]
  },
  {
   "cell_type": "code",
   "execution_count": 8,
   "metadata": {},
   "outputs": [
    {
     "name": "stdout",
     "output_type": "stream",
     "text": [
      "root\n",
      " |-- Customers_Customer_CompanyName: string (nullable = true)\n",
      " |-- Customers_Customer_ContactName: string (nullable = true)\n",
      " |-- Customers_Customer_ContactTitle: string (nullable = true)\n",
      " |-- Customers_Customer_Fax: string (nullable = true)\n",
      " |-- Customers_Customer_Phone: string (nullable = true)\n",
      " |-- Customers_Customer__CustomerID: string (nullable = true)\n",
      " |-- Orders_Order_CustomerID: string (nullable = true)\n",
      " |-- Orders_Order_EmployeeID: long (nullable = true)\n",
      " |-- Orders_Order_OrderDate: string (nullable = true)\n",
      " |-- Orders_Order_RequiredDate: string (nullable = true)\n",
      " |-- Customers_Customer_FullAddress_Address: string (nullable = true)\n",
      " |-- Customers_Customer_FullAddress_City: string (nullable = true)\n",
      " |-- Customers_Customer_FullAddress_Country: string (nullable = true)\n",
      " |-- Customers_Customer_FullAddress_PostalCode: long (nullable = true)\n",
      " |-- Customers_Customer_FullAddress_Region: string (nullable = true)\n",
      " |-- Orders_Order_ShipInfo_Freight: double (nullable = true)\n",
      " |-- Orders_Order_ShipInfo_ShipAddress: string (nullable = true)\n",
      " |-- Orders_Order_ShipInfo_ShipCity: string (nullable = true)\n",
      " |-- Orders_Order_ShipInfo_ShipCountry: string (nullable = true)\n",
      " |-- Orders_Order_ShipInfo_ShipName: string (nullable = true)\n",
      " |-- Orders_Order_ShipInfo_ShipPostalCode: long (nullable = true)\n",
      " |-- Orders_Order_ShipInfo_ShipRegion: string (nullable = true)\n",
      " |-- Orders_Order_ShipInfo_ShipVia: long (nullable = true)\n",
      " |-- Orders_Order_ShipInfo__ShippedDate: string (nullable = true)\n",
      "\n"
     ]
    }
   ],
   "source": [
    "field_info_df.printSchema()"
   ]
  },
  {
   "cell_type": "code",
   "execution_count": 6,
   "metadata": {},
   "outputs": [
    {
     "ename": "NameError",
     "evalue": "name 'field_info_df' is not defined",
     "output_type": "error",
     "traceback": [
      "\u001b[0;31m---------------------------------------------------------------------------\u001b[0m",
      "\u001b[0;31mNameError\u001b[0m                                 Traceback (most recent call last)",
      "\u001b[0;32m<ipython-input-6-8583992c587d>\u001b[0m in \u001b[0;36m<module>\u001b[0;34m\u001b[0m\n\u001b[0;32m----> 1\u001b[0;31m \u001b[0mresult\u001b[0m\u001b[0;34m=\u001b[0m\u001b[0mfield_info_df\u001b[0m\u001b[0;34m.\u001b[0m\u001b[0mwrite\u001b[0m\u001b[0;34m.\u001b[0m\u001b[0moption\u001b[0m\u001b[0;34m(\u001b[0m\u001b[0;34m\"header\"\u001b[0m\u001b[0;34m,\u001b[0m\u001b[0;34m\"true\"\u001b[0m\u001b[0;34m)\u001b[0m\u001b[0;34m.\u001b[0m\u001b[0mcsv\u001b[0m\u001b[0;34m(\u001b[0m\u001b[0;34m'customer'\u001b[0m\u001b[0;34m)\u001b[0m\u001b[0;34m\u001b[0m\u001b[0;34m\u001b[0m\u001b[0m\n\u001b[0m",
      "\u001b[0;31mNameError\u001b[0m: name 'field_info_df' is not defined"
     ]
    }
   ],
   "source": [
    "result=field_info_df.write.option(\"header\",\"true\").csv('customer')"
   ]
  }
 ],
 "metadata": {
  "kernelspec": {
   "display_name": "Python 2",
   "language": "python",
   "name": "python2"
  },
  "language_info": {
   "codemirror_mode": {
    "name": "ipython",
    "version": 3
   },
   "file_extension": ".py",
   "mimetype": "text/x-python",
   "name": "python",
   "nbconvert_exporter": "python",
   "pygments_lexer": "ipython3",
   "version": "3.6.9"
  }
 },
 "nbformat": 4,
 "nbformat_minor": 4
}
